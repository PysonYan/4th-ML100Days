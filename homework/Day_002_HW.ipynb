{
 "cells": [
  {
   "cell_type": "markdown",
   "metadata": {},
   "source": [
    "## [作業目標]\n",
    "了解機器學習適合應用的領域與範疇。"
   ]
  },
  {
   "cell_type": "markdown",
   "metadata": {},
   "source": [
    "## [作業重點]\n",
    "透過瞭解機器學習的運作方式，找出非常適用機器學習應用的領域及其原因"
   ]
  },
  {
   "cell_type": "markdown",
   "metadata": {},
   "source": [
    "## 作業\n",
    "請找出一個你認為機器學習可以發光發熱的領域並闡述原因? "
   ]
  },
  {
   "cell_type": "code",
   "execution_count": null,
   "metadata": {},
   "outputs": [],
   "source": [
    "機器學習可以應用在咖啡產業. 乾燥過的咖啡生豆在烘培之前必須要先把缺陷豆挑掉捨棄, 這部分為圖像分類, \n",
    "可以使用監督式學習. 而依照咖啡豆狀況的不同, 烘培也有很多參數可調控, 例如說溫度, 風力, 時間等變因\n",
    "都會產生不同的風味, 應該適合使用非監督式學習. 烘培完成的豆子可以使用監督式學習做二次挑掉烘培失敗的\n",
    "缺陷豆. 而沖煮過程也可以使用非監督式學習的方式沖煮出不同風味的咖啡."
   ]
  }
 ],
 "metadata": {
  "kernelspec": {
   "display_name": "Python 3",
   "language": "python",
   "name": "python3"
  },
  "language_info": {
   "codemirror_mode": {
    "name": "ipython",
    "version": 3
   },
   "file_extension": ".py",
   "mimetype": "text/x-python",
   "name": "python",
   "nbconvert_exporter": "python",
   "pygments_lexer": "ipython3",
   "version": "3.7.4"
  }
 },
 "nbformat": 4,
 "nbformat_minor": 2
}
