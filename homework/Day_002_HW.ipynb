{
 "cells": [
  {
   "cell_type": "markdown",
   "metadata": {},
   "source": [
    "## [作業目標]\n",
    "了解機器學習適合應用的領域與範疇。"
   ]
  },
  {
   "cell_type": "markdown",
   "metadata": {},
   "source": [
    "## [作業重點]\n",
    "透過瞭解機器學習的運作方式，找出非常適用機器學習應用的領域及其原因"
   ]
  },
  {
   "cell_type": "markdown",
   "metadata": {},
   "source": [
    "## 作業\n",
    "請找出一個你認為機器學習可以發光發熱的領域並闡述原因? "
   ]
  },
  {
   "cell_type": "markdown",
   "metadata": {},
   "source": [
    "機器學習可以應用在咖啡產業. 咖啡生豆在烘培前必須要把有瑕疵的缺陷豆給挑除, 這部分可以使用影像辨識的方式, 配合監督式學習來達成. 挑好的咖啡豆依照不同的品種, 必須搭配不同的烘培參數, 例如說溫度或火力, 風量, 烘培時間等變因, 可以產生不同的風味, 這部分可以使用非監督式學習來進行. 烘培完畢的豆子必須再次使用監督式學習把烘培失敗的缺陷豆再次剃除. 剩下來烘好的咖啡豆依照不同的沖煮器材有不同的沖煮手法可以達成不同的風味表現，此部分可以使用非監督式學習來協助完成．"
   ]
  },
  {
   "cell_type": "code",
   "execution_count": null,
   "metadata": {},
   "outputs": [],
   "source": []
  }
 ],
 "metadata": {
  "kernelspec": {
   "display_name": "Python 3",
   "language": "python",
   "name": "python3"
  },
  "language_info": {
   "codemirror_mode": {
    "name": "ipython",
    "version": 3
   },
   "file_extension": ".py",
   "mimetype": "text/x-python",
   "name": "python",
   "nbconvert_exporter": "python",
   "pygments_lexer": "ipython3",
   "version": "3.7.4"
  }
 },
 "nbformat": 4,
 "nbformat_minor": 2
}
